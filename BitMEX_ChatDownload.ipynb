{
 "cells": [
  {
   "cell_type": "markdown",
   "metadata": {},
   "source": [
    "# BitMEX Chat Download\n",
    "Author : Arnaud Carrere"
   ]
  },
  {
   "cell_type": "markdown",
   "metadata": {},
   "source": [
    "### Imports"
   ]
  },
  {
   "cell_type": "code",
   "execution_count": 1,
   "metadata": {},
   "outputs": [],
   "source": [
    "from bravado.client import SwaggerClient\n",
    "from bravado.requests_client import RequestsClient\n",
    "import json\n",
    "import os\n",
    "import pandas as pd\n",
    "import time"
   ]
  },
  {
   "cell_type": "markdown",
   "metadata": {},
   "source": [
    "### Download"
   ]
  },
  {
   "cell_type": "code",
   "execution_count": 2,
   "metadata": {},
   "outputs": [],
   "source": [
    "def bitmexClient(test=True, config=None):\n",
    "    if config is None:\n",
    "    # See full config options at http://bravado.readthedocs.io/en/latest/configuration.html\n",
    "        config = {\n",
    "    # Don't use models (Python classes) instead of dicts for #/definitions/{models}\n",
    "            'use_models': False,\n",
    "    # bravado has some issues with nullable fields\n",
    "            'validate_responses': False,\n",
    "    # Returns response in 2-tuple of (body, response); if False, will only return body\n",
    "            'also_return_response': False,\n",
    "        }\n",
    "    host = 'https://www.bitmex.com'\n",
    "    spec_uri = host + '/api/explorer/swagger.json'\n",
    "    return SwaggerClient.from_url(spec_uri, config=config)"
   ]
  },
  {
   "cell_type": "code",
   "execution_count": null,
   "metadata": {
    "scrolled": true
   },
   "outputs": [
    {
     "name": "stderr",
     "output_type": "stream",
     "text": [
      "/Users/arnaud/anaconda3/lib/python3.6/site-packages/swagger_spec_validator/validator20.py:56: SwaggerValidationWarning: Found \"$ref: #/definitions/UserPreferences\" with siblings that will be overwritten. See https://stackoverflow.com/a/48114924 for more information.\n",
      "  warnings.warn(swagger_validation_warning)\n"
     ]
    }
   ],
   "source": [
    "client = bitmexClient()\n",
    "\n",
    "chat=[]\n",
    "count = 500\n",
    "start = 23727420\n",
    "#24175959 doublon\n",
    "#24700959 messages today\n",
    "#11-30 id=23727420\n",
    "#11-01 id=21951456\n",
    "\n",
    "for i in range(300):\n",
    "    for j in range(150):\n",
    "        chat += client.Chat.Chat_get(count=count,start=start,reverse=True).result()\n",
    "        start = pd.DataFrame.from_dict(chat).iloc[-1][\"id\"] - 1\n",
    "        if (start<21951456):\n",
    "            break\n",
    "    data = pd.DataFrame.from_dict(chat)\n",
    "    columns_to_drop = [\"html\"]\n",
    "    data.drop(columns_to_drop, axis=1, inplace=True)\n",
    "    data.to_csv(\"../Dumps/BitMEX_EnglishChat.csv\", index=False)\n",
    "    if (start<21951456):\n",
    "        break\n",
    "    time.sleep(300)"
   ]
  },
  {
   "cell_type": "code",
   "execution_count": null,
   "metadata": {},
   "outputs": [],
   "source": []
  }
 ],
 "metadata": {
  "kernelspec": {
   "display_name": "Python 3",
   "language": "python",
   "name": "python3"
  },
  "language_info": {
   "codemirror_mode": {
    "name": "ipython",
    "version": 3
   },
   "file_extension": ".py",
   "mimetype": "text/x-python",
   "name": "python",
   "nbconvert_exporter": "python",
   "pygments_lexer": "ipython3",
   "version": "3.6.5"
  }
 },
 "nbformat": 4,
 "nbformat_minor": 2
}
